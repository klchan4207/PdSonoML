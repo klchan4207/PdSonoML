{
 "cells": [
  {
   "cell_type": "code",
   "execution_count": 1,
   "metadata": {},
   "outputs": [],
   "source": [
    "import numpy as np\n",
    "import pandas as pd\n",
    "from sklearn.preprocessing import OneHotEncoder\n",
    "from sklearn.model_selection import train_test_split\n",
    "from sklearn.linear_model import LinearRegression\n",
    "from sklearn.metrics import mean_squared_error\n",
    "import tensorflow as tf\n",
    "import argparse\n",
    "\n",
    "# parser = argparse.ArgumentParser()\n",
    "# parser.add_argument('mode', type=str)\n",
    "# parser.add_argument('--useEq', action='store_true')\n",
    "# parser.add_argument('--evalAll', action='store_true')\n",
    "# parser.add_argument('--trial_num', type=int, default=100)\n",
    "# _args = parser.parse_args()\n",
    "# _mode = _args.mode\n",
    "# _useEq = _args.useEq\n",
    "# _evalAll = _args.evalAll\n",
    "# _trial_num = _args.trial_num"
   ]
  },
  {
   "cell_type": "code",
   "execution_count": 2,
   "metadata": {},
   "outputs": [],
   "source": [
    "_mode = 'BV'\n"
   ]
  },
  {
   "cell_type": "code",
   "execution_count": 3,
   "metadata": {},
   "outputs": [],
   "source": [
    "_useEq = False\n",
    "_evalAll = False\n",
    "_trial_num = 100"
   ]
  },
  {
   "cell_type": "code",
   "execution_count": 4,
   "metadata": {},
   "outputs": [
    {
     "name": "stdout",
     "output_type": "stream",
     "text": [
      "Current ligand descriptor: BV\n"
     ]
    }
   ],
   "source": [
    "data = pd.read_excel('../../DATA/_RAWDATA(RCTxLIG)_deltaE.xlsx')\n",
    "\n",
    "lig_data1 = pd.read_excel('../../DATA/_rawDATA_BV_CA_MIN(LIG).xlsx')\n",
    "lig_data2 = pd.read_excel('../../DATA/_gen_MFF_MFFdata(LIG).xlsx')\n",
    "rct_data = pd.read_excel('../../DATA/_RAWDATA(RCT).xlsx')\n",
    "data = data.merge(lig_data1, how='left', on='lig')\n",
    "data = data.merge(lig_data2, how='left', on='lig')\n",
    "data = data.merge(rct_data, how='left', on='rct')\n",
    "\n",
    "X_rct = data[['rct_m_electronic', 'rct_p_electronic']].values\n",
    "\n",
    "if _mode == 'BV':\n",
    "    X_lig = data[['buried_volume']].values\n",
    "elif _mode == 'CA':\n",
    "    X_lig = data[['cone_angle']].values\n",
    "elif _mode == 'BVCA':\n",
    "    X_lig = data[['buried_volume','cone_angle']].values\n",
    "elif _mode == 'ONEHOT':\n",
    "    X_lig = OneHotEncoder().fit_transform(data[['lig']]).toarray()\n",
    "elif _mode == 'MFF':\n",
    "    X_lig = data[[col for col in data.columns if 'MFF' in col]].values\n",
    "print('Current ligand descriptor: {}'.format(_mode))\n",
    "\n",
    "X = np.concatenate((X_rct, X_lig), axis=1)\n",
    "\n",
    "y = data[['delta_E','k']].values"
   ]
  },
  {
   "cell_type": "code",
   "execution_count": 5,
   "metadata": {},
   "outputs": [],
   "source": [
    "_model_dict = {\n",
    "    'train':{\n",
    "        'y':[],\n",
    "        'y_pred':[],\n",
    "        'R^2':[],\n",
    "        'MAE':[],\n",
    "        'RMSE':[],\n",
    "    },\n",
    "    'val':{\n",
    "        'y':[],\n",
    "        'y_pred':[],\n",
    "        'R^2':[],\n",
    "        'MAE':[],\n",
    "        'RMSE':[],\n",
    "    },\n",
    "    'test':{\n",
    "        'y':[],\n",
    "        'y_pred':[],\n",
    "        'R^2':[],\n",
    "        'MAE':[],\n",
    "        'RMSE':[],\n",
    "    },\n",
    "}\n",
    "\n",
    "import warnings\n",
    "warnings.filterwarnings('ignore')\n",
    "def main():\n",
    "    for i in range(_trial_num):\n",
    "        X_train, X_valtest, y_train_Ek , y_valtest_Ek  = train_test_split(X, y, test_size=.4, random_state=i)\n",
    "        X_test, X_val, y_test_Ek , y_val_Ek  = train_test_split(X_valtest, y_valtest_Ek , test_size=0.5, random_state=i)\n",
    "        yE_train , yk_train = np.transpose(y_train_Ek)\n",
    "        _        , yk_val = np.transpose(y_val_Ek)\n",
    "        _        , yk_test = np.transpose(y_test_Ek)\n",
    "\n",
    "\n",
    "        model = LinearRegression(positive=True,fit_intercept=False)\n",
    "            \n",
    "\n",
    "        if _useEq:\n",
    "            model.fit(X_train, yE_train)\n",
    "            yk_train_pred = ArrheniusEq(model.predict(X_train).reshape(-1)).numpy()\n",
    "            yk_val_pred =  ArrheniusEq(model.predict(X_val).reshape(-1)).numpy()\n",
    "            yk_test_pred =  ArrheniusEq(model.predict(X_test).reshape(-1)).numpy()\n",
    "        else:\n",
    "            model.fit(X_train, yk_train)\n",
    "            yk_train_pred = model.predict(X_train).reshape(-1)\n",
    "            yk_val_pred =  model.predict(X_val).reshape(-1)\n",
    "            yk_test_pred =  model.predict(X_test).reshape(-1)\n",
    "\n",
    "        MAE = tf.keras.metrics.mean_absolute_error\n",
    "\n",
    "        _model_dict['train']['R^2'].append(get_R2(yk_train,yk_train_pred))\n",
    "        _model_dict['val']['R^2'].append(get_R2(yk_val,yk_val_pred))\n",
    "        _model_dict['test']['R^2'].append(get_R2(yk_test,yk_test_pred))\n",
    "\n",
    "        _model_dict['train']['MAE'].append(float(MAE(yk_train,yk_train_pred)))\n",
    "        _model_dict['val']['MAE'].append(float(MAE(yk_val,yk_val_pred)))\n",
    "        _model_dict['test']['MAE'].append(float(MAE(yk_test,yk_test_pred)))\n",
    "\n",
    "        _model_dict['train']['RMSE'].append(mean_squared_error(yk_train,yk_train_pred, squared = False) )\n",
    "        _model_dict['val']['RMSE'].append(mean_squared_error(yk_val,yk_val_pred, squared = False))\n",
    "        _model_dict['test']['RMSE'].append(mean_squared_error(yk_test,yk_test_pred, squared = False))\n",
    "\n",
    "    # top10 by val MAE\n",
    "    _top10_idx_list = np.array(_model_dict['val']['MAE']).argsort()[:10]\n",
    "    \n",
    "    for k,v in _model_dict.items():\n",
    "        print('{}:'.format(k))\n",
    "        for subk,subv in v.items():\n",
    "            if subk not in ['y','y_pred']:\n",
    "                if not _evalAll:\n",
    "                    output_list = [subv[_idx] for _idx in _top10_idx_list]\n",
    "                else:\n",
    "                    output_list = subv\n",
    "                print('{0} = {1:.2f}'.format(subk,np.average(output_list)))"
   ]
  },
  {
   "cell_type": "code",
   "execution_count": 6,
   "metadata": {},
   "outputs": [
    {
     "name": "stderr",
     "output_type": "stream",
     "text": [
      "2023-04-22 10:38:51.572783: I tensorflow/core/platform/cpu_feature_guard.cc:151] This TensorFlow binary is optimized with oneAPI Deep Neural Network Library (oneDNN) to use the following CPU instructions in performance-critical operations:  AVX2 AVX512F FMA\n",
      "To enable them in other operations, rebuild TensorFlow with the appropriate compiler flags.\n"
     ]
    },
    {
     "name": "stdout",
     "output_type": "stream",
     "text": [
      "train:\n",
      "R^2 = 0.27\n",
      "MAE = 3.46\n",
      "RMSE = 5.28\n",
      "val:\n",
      "R^2 = 0.34\n",
      "MAE = 2.78\n",
      "RMSE = 4.03\n",
      "test:\n",
      "R^2 = 0.30\n",
      "MAE = 4.06\n",
      "RMSE = 6.38\n"
     ]
    }
   ],
   "source": [
    "\n",
    "def get_R2(_real,_pred):\n",
    "    _lin = LinearRegression(normalize=False,fit_intercept=True)\n",
    "    _result = _lin.fit(_pred.reshape(-1, 1), _real)\n",
    "    _R2 = _result.score(_pred.reshape(-1, 1), _real)\n",
    "    return _R2\n",
    "\n",
    "def ArrheniusEq(Ea):\n",
    "    _h = 6.62607015*(10**(-34))\n",
    "    _kb = 1.380649*(10**(-23))\n",
    "    _J_to_kcal = 4184\n",
    "    _R = 8.31\n",
    "    _T = 273+80\n",
    "    _1000s_to_h = 3.6\n",
    "\n",
    "    return tf.math.multiply(_kb*_T/_h/_1000s_to_h,\n",
    "                            tf.keras.activations.exponential( \n",
    "                                tf.math.multiply(\n",
    "                                    Ea,-_J_to_kcal/_R/_T\n",
    "                                    ) \n",
    "                                )\n",
    "                            )\n",
    "if __name__ == '__main__':\n",
    "    main()"
   ]
  }
 ],
 "metadata": {
  "kernelspec": {
   "display_name": "py39",
   "language": "python",
   "name": "python3"
  },
  "language_info": {
   "codemirror_mode": {
    "name": "ipython",
    "version": 3
   },
   "file_extension": ".py",
   "mimetype": "text/x-python",
   "name": "python",
   "nbconvert_exporter": "python",
   "pygments_lexer": "ipython3",
   "version": "3.9.7"
  },
  "orig_nbformat": 4
 },
 "nbformat": 4,
 "nbformat_minor": 2
}
